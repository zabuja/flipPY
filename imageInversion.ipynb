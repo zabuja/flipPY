{
 "cells": [
  {
   "cell_type": "code",
   "execution_count": 1,
   "id": "94f9f37c-20c4-4c7d-bdd7-2ab746c72f7f",
   "metadata": {},
   "outputs": [
    {
     "name": "stdout",
     "output_type": "stream",
     "text": [
      "Defaulting to user installation because normal site-packages is not writeable\n",
      "Requirement already satisfied: opencv-python in c:\\users\\atagh\\appdata\\roaming\\python\\python311\\site-packages (4.8.0.74)\n",
      "Requirement already satisfied: numpy>=1.21.2 in c:\\users\\atagh\\appdata\\roaming\\python\\python311\\site-packages (from opencv-python) (1.24.3)\n",
      "Note: you may need to restart the kernel to use updated packages.\n"
     ]
    },
    {
     "name": "stderr",
     "output_type": "stream",
     "text": [
      "\n",
      "[notice] A new release of pip is available: 23.1.2 -> 23.2.1\n",
      "[notice] To update, run: python.exe -m pip install --upgrade pip\n"
     ]
    }
   ],
   "source": [
    "pip install opencv-python"
   ]
  },
  {
   "cell_type": "code",
   "execution_count": 2,
   "id": "6ccb2f06-6daa-458d-804b-5061bb002a1e",
   "metadata": {},
   "outputs": [
    {
     "ename": "SyntaxError",
     "evalue": "invalid syntax (842801469.py, line 1)",
     "output_type": "error",
     "traceback": [
      "\u001b[1;36m  Cell \u001b[1;32mIn[2], line 1\u001b[1;36m\u001b[0m\n\u001b[1;33m    python.exe -m pip install --upgrade pip\u001b[0m\n\u001b[1;37m                  ^\u001b[0m\n\u001b[1;31mSyntaxError\u001b[0m\u001b[1;31m:\u001b[0m invalid syntax\n"
     ]
    }
   ],
   "source": [
    "python.exe -m pip install --upgrade pip"
   ]
  },
  {
   "cell_type": "code",
   "execution_count": 3,
   "id": "bdc57c6e-c7a5-44f0-ba67-e02a12231497",
   "metadata": {},
   "outputs": [
    {
     "name": "stdout",
     "output_type": "stream",
     "text": [
      "Defaulting to user installation because normal site-packages is not writeable\n",
      "Requirement already satisfied: pip in c:\\program files\\python311\\lib\\site-packages (23.1.2)\n",
      "Collecting pip\n",
      "  Downloading pip-23.2.1-py3-none-any.whl (2.1 MB)\n",
      "                                              0.0/2.1 MB ? eta -:--:--\n",
      "     -                                        0.1/2.1 MB 1.6 MB/s eta 0:00:02\n",
      "     -                                        0.1/2.1 MB 1.3 MB/s eta 0:00:02\n",
      "     -                                        0.1/2.1 MB 1.3 MB/s eta 0:00:02\n",
      "     --                                       0.1/2.1 MB 819.2 kB/s eta 0:00:03\n",
      "     --                                       0.1/2.1 MB 819.2 kB/s eta 0:00:03\n",
      "     --                                       0.1/2.1 MB 566.5 kB/s eta 0:00:04\n",
      "     --                                       0.1/2.1 MB 566.5 kB/s eta 0:00:04\n",
      "     --                                       0.2/2.1 MB 435.7 kB/s eta 0:00:05\n",
      "     --                                       0.2/2.1 MB 435.7 kB/s eta 0:00:05\n",
      "     --                                       0.2/2.1 MB 435.7 kB/s eta 0:00:05\n",
      "     --                                       0.2/2.1 MB 435.7 kB/s eta 0:00:05\n",
      "     --                                       0.2/2.1 MB 435.7 kB/s eta 0:00:05\n",
      "     ---                                      0.2/2.1 MB 299.5 kB/s eta 0:00:07\n",
      "     ---                                      0.2/2.1 MB 327.4 kB/s eta 0:00:06\n",
      "     ---                                      0.2/2.1 MB 327.4 kB/s eta 0:00:06\n",
      "     ---                                      0.2/2.1 MB 327.4 kB/s eta 0:00:06\n",
      "     ---                                      0.2/2.1 MB 327.4 kB/s eta 0:00:06\n",
      "     ---                                      0.2/2.1 MB 259.4 kB/s eta 0:00:08\n",
      "     ---                                      0.2/2.1 MB 259.4 kB/s eta 0:00:08\n",
      "     ----                                     0.2/2.1 MB 254.8 kB/s eta 0:00:08\n",
      "     ----                                     0.2/2.1 MB 254.8 kB/s eta 0:00:08\n",
      "     ----                                     0.2/2.1 MB 254.8 kB/s eta 0:00:08\n",
      "     ----                                     0.2/2.1 MB 254.8 kB/s eta 0:00:08\n",
      "     ----                                     0.2/2.1 MB 254.8 kB/s eta 0:00:08\n",
      "     ----                                     0.2/2.1 MB 211.9 kB/s eta 0:00:09\n",
      "     ----                                     0.2/2.1 MB 211.9 kB/s eta 0:00:09\n",
      "     ----                                     0.3/2.1 MB 215.4 kB/s eta 0:00:09\n",
      "     ----                                     0.3/2.1 MB 215.4 kB/s eta 0:00:09\n",
      "     -----                                    0.3/2.1 MB 213.0 kB/s eta 0:00:09\n",
      "     -----                                    0.3/2.1 MB 210.6 kB/s eta 0:00:09\n",
      "     -----                                    0.3/2.1 MB 210.6 kB/s eta 0:00:09\n",
      "     -----                                    0.3/2.1 MB 213.5 kB/s eta 0:00:09\n",
      "     -----                                    0.3/2.1 MB 213.5 kB/s eta 0:00:09\n",
      "     -----                                    0.3/2.1 MB 213.5 kB/s eta 0:00:09\n",
      "     -----                                    0.3/2.1 MB 213.5 kB/s eta 0:00:09\n",
      "     -----                                    0.3/2.1 MB 213.5 kB/s eta 0:00:09\n",
      "     -----                                    0.3/2.1 MB 213.5 kB/s eta 0:00:09\n",
      "     -----                                    0.3/2.1 MB 213.5 kB/s eta 0:00:09\n",
      "     -----                                    0.3/2.1 MB 213.5 kB/s eta 0:00:09\n",
      "     -----                                    0.3/2.1 MB 213.5 kB/s eta 0:00:09\n",
      "     -----                                    0.3/2.1 MB 213.5 kB/s eta 0:00:09\n",
      "     ------                                   0.3/2.1 MB 166.6 kB/s eta 0:00:11\n",
      "     ------                                   0.3/2.1 MB 171.8 kB/s eta 0:00:11\n",
      "     ------                                   0.3/2.1 MB 171.8 kB/s eta 0:00:11\n",
      "     ------                                   0.3/2.1 MB 171.8 kB/s eta 0:00:11\n",
      "     ------                                   0.3/2.1 MB 171.8 kB/s eta 0:00:11\n",
      "     ------                                   0.3/2.1 MB 171.8 kB/s eta 0:00:11\n",
      "     ------                                   0.3/2.1 MB 171.8 kB/s eta 0:00:11\n",
      "     ------                                   0.4/2.1 MB 163.8 kB/s eta 0:00:11\n",
      "     -------                                  0.4/2.1 MB 165.0 kB/s eta 0:00:11\n",
      "     -------                                  0.4/2.1 MB 169.5 kB/s eta 0:00:11\n",
      "     -------                                  0.4/2.1 MB 169.5 kB/s eta 0:00:11\n",
      "     -------                                  0.4/2.1 MB 169.5 kB/s eta 0:00:11\n",
      "     -------                                  0.4/2.1 MB 166.0 kB/s eta 0:00:11\n",
      "     -------                                  0.4/2.1 MB 166.0 kB/s eta 0:00:11\n",
      "     --------                                 0.4/2.1 MB 169.1 kB/s eta 0:00:10\n",
      "     --------                                 0.4/2.1 MB 169.1 kB/s eta 0:00:10\n",
      "     --------                                 0.4/2.1 MB 169.1 kB/s eta 0:00:10\n",
      "     --------                                 0.4/2.1 MB 168.9 kB/s eta 0:00:10\n",
      "     --------                                 0.4/2.1 MB 168.9 kB/s eta 0:00:10\n",
      "     --------                                 0.5/2.1 MB 166.7 kB/s eta 0:00:10\n",
      "     --------                                 0.5/2.1 MB 166.7 kB/s eta 0:00:10\n",
      "     ---------                                0.5/2.1 MB 167.6 kB/s eta 0:00:10\n",
      "     ---------                                0.5/2.1 MB 167.6 kB/s eta 0:00:10\n",
      "     ---------                                0.5/2.1 MB 166.5 kB/s eta 0:00:10\n",
      "     ---------                                0.5/2.1 MB 166.5 kB/s eta 0:00:10\n",
      "     ---------                                0.5/2.1 MB 170.0 kB/s eta 0:00:10\n",
      "     ----------                               0.5/2.1 MB 173.3 kB/s eta 0:00:10\n",
      "     ----------                               0.5/2.1 MB 173.3 kB/s eta 0:00:10\n",
      "     ----------                               0.5/2.1 MB 173.2 kB/s eta 0:00:09\n",
      "     ----------                               0.6/2.1 MB 177.2 kB/s eta 0:00:09\n",
      "     ----------                               0.6/2.1 MB 177.8 kB/s eta 0:00:09\n",
      "     -----------                              0.6/2.1 MB 180.8 kB/s eta 0:00:09\n",
      "     -----------                              0.6/2.1 MB 184.5 kB/s eta 0:00:09\n",
      "     -----------                              0.6/2.1 MB 184.5 kB/s eta 0:00:09\n",
      "     -----------                              0.6/2.1 MB 184.1 kB/s eta 0:00:08\n",
      "     ------------                             0.6/2.1 MB 186.8 kB/s eta 0:00:08\n",
      "     ------------                             0.6/2.1 MB 186.8 kB/s eta 0:00:08\n",
      "     ------------                             0.6/2.1 MB 186.8 kB/s eta 0:00:08\n",
      "     ------------                             0.6/2.1 MB 186.8 kB/s eta 0:00:08\n",
      "     ------------                             0.6/2.1 MB 186.8 kB/s eta 0:00:08\n",
      "     ------------                             0.6/2.1 MB 186.8 kB/s eta 0:00:08\n",
      "     ------------                             0.6/2.1 MB 186.8 kB/s eta 0:00:08\n",
      "     ------------                             0.6/2.1 MB 186.8 kB/s eta 0:00:08\n",
      "     ------------                             0.6/2.1 MB 186.8 kB/s eta 0:00:08\n",
      "     ------------                             0.6/2.1 MB 186.8 kB/s eta 0:00:08\n",
      "     ------------                             0.6/2.1 MB 186.8 kB/s eta 0:00:08\n",
      "     ------------                             0.6/2.1 MB 186.8 kB/s eta 0:00:08\n",
      "     ------------                             0.6/2.1 MB 186.8 kB/s eta 0:00:08\n",
      "     ------------                             0.6/2.1 MB 186.8 kB/s eta 0:00:08\n",
      "     ------------                             0.6/2.1 MB 186.8 kB/s eta 0:00:08\n",
      "     ------------                             0.6/2.1 MB 186.8 kB/s eta 0:00:08\n",
      "     ------------                             0.6/2.1 MB 186.8 kB/s eta 0:00:08\n",
      "     ------------                             0.6/2.1 MB 186.8 kB/s eta 0:00:08\n",
      "     ------------                             0.6/2.1 MB 186.8 kB/s eta 0:00:08\n",
      "     ------------                             0.6/2.1 MB 186.8 kB/s eta 0:00:08\n",
      "     ------------                             0.6/2.1 MB 186.8 kB/s eta 0:00:08\n",
      "     ------------                             0.6/2.1 MB 186.8 kB/s eta 0:00:08\n",
      "     ------------                             0.7/2.1 MB 150.1 kB/s eta 0:00:10\n",
      "     ------------                             0.7/2.1 MB 150.1 kB/s eta 0:00:10\n",
      "     ------------                             0.7/2.1 MB 150.1 kB/s eta 0:00:10\n",
      "     ------------                             0.7/2.1 MB 150.1 kB/s eta 0:00:10\n",
      "     ------------                             0.7/2.1 MB 150.1 kB/s eta 0:00:10\n",
      "     ------------                             0.7/2.1 MB 150.1 kB/s eta 0:00:10\n",
      "     ------------                             0.7/2.1 MB 150.1 kB/s eta 0:00:10\n",
      "     ------------                             0.7/2.1 MB 142.2 kB/s eta 0:00:10\n",
      "     ------------                             0.7/2.1 MB 142.2 kB/s eta 0:00:10\n",
      "     ------------                             0.7/2.1 MB 142.2 kB/s eta 0:00:10\n",
      "     ------------                             0.7/2.1 MB 142.2 kB/s eta 0:00:10\n",
      "     -------------                            0.7/2.1 MB 141.3 kB/s eta 0:00:10\n",
      "     -------------                            0.7/2.1 MB 141.3 kB/s eta 0:00:10\n",
      "     -------------                            0.7/2.1 MB 141.3 kB/s eta 0:00:10\n",
      "     -------------                            0.7/2.1 MB 141.3 kB/s eta 0:00:10\n",
      "     -------------                            0.7/2.1 MB 141.3 kB/s eta 0:00:10\n",
      "     -------------                            0.7/2.1 MB 139.3 kB/s eta 0:00:10\n",
      "     -------------                            0.7/2.1 MB 139.3 kB/s eta 0:00:10\n",
      "     -------------                            0.7/2.1 MB 139.3 kB/s eta 0:00:10\n",
      "     -------------                            0.7/2.1 MB 137.9 kB/s eta 0:00:10\n",
      "     -------------                            0.7/2.1 MB 137.9 kB/s eta 0:00:10\n",
      "     --------------                           0.7/2.1 MB 139.3 kB/s eta 0:00:10\n",
      "     --------------                           0.7/2.1 MB 139.3 kB/s eta 0:00:10\n",
      "     --------------                           0.7/2.1 MB 139.2 kB/s eta 0:00:10\n",
      "     --------------                           0.7/2.1 MB 139.2 kB/s eta 0:00:10\n",
      "     --------------                           0.7/2.1 MB 139.2 kB/s eta 0:00:10\n",
      "     --------------                           0.8/2.1 MB 140.1 kB/s eta 0:00:10\n",
      "     ---------------                          0.8/2.1 MB 143.1 kB/s eta 0:00:10\n",
      "     ---------------                          0.8/2.1 MB 143.1 kB/s eta 0:00:10\n",
      "     ---------------                          0.8/2.1 MB 142.5 kB/s eta 0:00:10\n",
      "     ---------------                          0.8/2.1 MB 144.6 kB/s eta 0:00:09\n",
      "     ---------------                          0.8/2.1 MB 144.6 kB/s eta 0:00:09\n",
      "     ---------------                          0.8/2.1 MB 144.4 kB/s eta 0:00:09\n",
      "     ---------------                          0.8/2.1 MB 144.4 kB/s eta 0:00:09\n",
      "     ----------------                         0.8/2.1 MB 146.4 kB/s eta 0:00:09\n",
      "     ----------------                         0.9/2.1 MB 148.8 kB/s eta 0:00:09\n",
      "     ----------------                         0.9/2.1 MB 148.9 kB/s eta 0:00:09\n",
      "     -----------------                        0.9/2.1 MB 151.2 kB/s eta 0:00:08\n",
      "     -----------------                        0.9/2.1 MB 151.8 kB/s eta 0:00:08\n",
      "     -----------------                        0.9/2.1 MB 154.0 kB/s eta 0:00:08\n",
      "     -----------------                        0.9/2.1 MB 154.0 kB/s eta 0:00:08\n",
      "     ------------------                       1.0/2.1 MB 156.7 kB/s eta 0:00:08\n",
      "     ------------------                       1.0/2.1 MB 159.2 kB/s eta 0:00:07\n",
      "     -------------------                      1.0/2.1 MB 160.1 kB/s eta 0:00:07\n",
      "     -------------------                      1.0/2.1 MB 160.1 kB/s eta 0:00:07\n",
      "     -------------------                      1.0/2.1 MB 164.2 kB/s eta 0:00:07\n",
      "     --------------------                     1.0/2.1 MB 164.6 kB/s eta 0:00:07\n",
      "     --------------------                     1.0/2.1 MB 164.6 kB/s eta 0:00:07\n",
      "     --------------------                     1.1/2.1 MB 167.1 kB/s eta 0:00:07\n",
      "     ---------------------                    1.1/2.1 MB 169.4 kB/s eta 0:00:06\n",
      "     ---------------------                    1.1/2.1 MB 169.4 kB/s eta 0:00:06\n",
      "     ---------------------                    1.1/2.1 MB 171.7 kB/s eta 0:00:06\n",
      "     ---------------------                    1.1/2.1 MB 173.6 kB/s eta 0:00:06\n",
      "     ----------------------                   1.2/2.1 MB 173.9 kB/s eta 0:00:06\n",
      "     ----------------------                   1.2/2.1 MB 176.2 kB/s eta 0:00:06\n",
      "     ----------------------                   1.2/2.1 MB 178.0 kB/s eta 0:00:05\n",
      "     -----------------------                  1.2/2.1 MB 178.7 kB/s eta 0:00:05\n",
      "     -----------------------                  1.2/2.1 MB 181.2 kB/s eta 0:00:05\n",
      "     ------------------------                 1.3/2.1 MB 183.4 kB/s eta 0:00:05\n",
      "     ------------------------                 1.3/2.1 MB 186.6 kB/s eta 0:00:05\n",
      "     -------------------------                1.3/2.1 MB 188.3 kB/s eta 0:00:05\n",
      "     -------------------------                1.3/2.1 MB 188.9 kB/s eta 0:00:05\n",
      "     --------------------------               1.4/2.1 MB 193.5 kB/s eta 0:00:04\n",
      "     --------------------------               1.4/2.1 MB 194.1 kB/s eta 0:00:04\n",
      "     --------------------------               1.4/2.1 MB 197.2 kB/s eta 0:00:04\n",
      "     ---------------------------              1.4/2.1 MB 201.6 kB/s eta 0:00:04\n",
      "     ----------------------------             1.5/2.1 MB 204.6 kB/s eta 0:00:03\n",
      "     ----------------------------             1.5/2.1 MB 205.1 kB/s eta 0:00:03\n",
      "     -----------------------------            1.5/2.1 MB 209.5 kB/s eta 0:00:03\n",
      "     -----------------------------            1.5/2.1 MB 209.5 kB/s eta 0:00:03\n",
      "     -----------------------------            1.5/2.1 MB 209.5 kB/s eta 0:00:03\n",
      "     -----------------------------            1.5/2.1 MB 209.5 kB/s eta 0:00:03\n",
      "     -----------------------------            1.5/2.1 MB 209.5 kB/s eta 0:00:03\n",
      "     -----------------------------            1.5/2.1 MB 209.5 kB/s eta 0:00:03\n",
      "     -----------------------------            1.5/2.1 MB 209.5 kB/s eta 0:00:03\n",
      "     -----------------------------            1.5/2.1 MB 209.5 kB/s eta 0:00:03\n",
      "     -----------------------------            1.5/2.1 MB 201.3 kB/s eta 0:00:03\n",
      "     -----------------------------            1.6/2.1 MB 203.2 kB/s eta 0:00:03\n",
      "     -----------------------------            1.6/2.1 MB 203.2 kB/s eta 0:00:03\n",
      "     ------------------------------           1.6/2.1 MB 202.0 kB/s eta 0:00:03\n",
      "     ------------------------------           1.6/2.1 MB 202.0 kB/s eta 0:00:03\n",
      "     ------------------------------           1.6/2.1 MB 202.0 kB/s eta 0:00:03\n",
      "     ------------------------------           1.6/2.1 MB 201.0 kB/s eta 0:00:03\n",
      "     ------------------------------           1.6/2.1 MB 201.0 kB/s eta 0:00:03\n",
      "     ------------------------------           1.6/2.1 MB 201.6 kB/s eta 0:00:03\n",
      "     -------------------------------          1.6/2.1 MB 201.7 kB/s eta 0:00:03\n",
      "     -------------------------------          1.6/2.1 MB 204.4 kB/s eta 0:00:03\n",
      "     -------------------------------          1.7/2.1 MB 204.9 kB/s eta 0:00:03\n",
      "     --------------------------------         1.7/2.1 MB 206.6 kB/s eta 0:00:02\n",
      "     --------------------------------         1.7/2.1 MB 208.8 kB/s eta 0:00:02\n",
      "     ---------------------------------        1.7/2.1 MB 211.4 kB/s eta 0:00:02\n",
      "     ---------------------------------        1.8/2.1 MB 213.0 kB/s eta 0:00:02\n",
      "     ----------------------------------       1.8/2.1 MB 215.6 kB/s eta 0:00:02\n",
      "     ----------------------------------       1.8/2.1 MB 218.0 kB/s eta 0:00:02\n",
      "     -----------------------------------      1.9/2.1 MB 220.5 kB/s eta 0:00:02\n",
      "     ------------------------------------     1.9/2.1 MB 223.3 kB/s eta 0:00:01\n",
      "     ------------------------------------     1.9/2.1 MB 225.3 kB/s eta 0:00:01\n",
      "     -------------------------------------    1.9/2.1 MB 227.3 kB/s eta 0:00:01\n",
      "     -------------------------------------    2.0/2.1 MB 229.7 kB/s eta 0:00:01\n",
      "     -------------------------------------    2.0/2.1 MB 229.7 kB/s eta 0:00:01\n",
      "     --------------------------------------   2.0/2.1 MB 231.6 kB/s eta 0:00:01\n",
      "     --------------------------------------   2.0/2.1 MB 232.7 kB/s eta 0:00:01\n",
      "     --------------------------------------   2.0/2.1 MB 232.6 kB/s eta 0:00:01\n",
      "     ---------------------------------------  2.1/2.1 MB 235.2 kB/s eta 0:00:01\n",
      "     ---------------------------------------  2.1/2.1 MB 235.2 kB/s eta 0:00:01\n",
      "     ---------------------------------------  2.1/2.1 MB 235.2 kB/s eta 0:00:01\n",
      "     ---------------------------------------  2.1/2.1 MB 235.2 kB/s eta 0:00:01\n",
      "     ---------------------------------------  2.1/2.1 MB 235.2 kB/s eta 0:00:01\n",
      "     ---------------------------------------- 2.1/2.1 MB 231.4 kB/s eta 0:00:00\n",
      "Installing collected packages: pip\n",
      "Successfully installed pip-23.2.1\n",
      "Note: you may need to restart the kernel to use updated packages.\n"
     ]
    }
   ],
   "source": [
    "pip install --upgrade pip"
   ]
  },
  {
   "cell_type": "code",
   "execution_count": 3,
   "id": "0711e5e6-8a6b-4057-a382-b65d3f4bd211",
   "metadata": {},
   "outputs": [],
   "source": [
    "import cv2"
   ]
  },
  {
   "cell_type": "code",
   "execution_count": 4,
   "id": "483a5191-ecf4-4f72-9035-4f8b2d74dbd0",
   "metadata": {},
   "outputs": [],
   "source": [
    "import os"
   ]
  },
  {
   "cell_type": "code",
   "execution_count": 5,
   "id": "9bc34da4-1c94-4da8-9848-66f91ca8b23a",
   "metadata": {},
   "outputs": [],
   "source": [
    "input_folder = 'E:\\python_inverse_image\\data'\n",
    "output_folder = 'E:\\python_inverse_image\\inversed'"
   ]
  },
  {
   "cell_type": "code",
   "execution_count": 6,
   "id": "a03c3ac5-31a0-46a4-8556-add53bb21a8a",
   "metadata": {},
   "outputs": [],
   "source": [
    "# making the fodler if it is not present\n",
    "os.makedirs(output_folder, exist_ok=True)\n"
   ]
  },
  {
   "cell_type": "code",
   "execution_count": 6,
   "id": "cf66368d-5f1a-4fde-9628-e35cac244c3d",
   "metadata": {},
   "outputs": [
    {
     "name": "stdout",
     "output_type": "stream",
     "text": [
      "Image inversion complete.\n"
     ]
    }
   ],
   "source": [
    "# logic for inverting the color of the images\n",
    "image_files = [f for f in os.listdir(input_folder) if f.endswith(('.jpg', '.png', '.jpeg'))]\n",
    "\n",
    "for image_file in image_files:\n",
    "    # Load the image\n",
    "    image_path = os.path.join(input_folder, image_file)\n",
    "    image = cv2.imread(image_path)\n",
    "\n",
    "    if image is not None:\n",
    "        # Invert the image\n",
    "        inverted_image = cv2.bitwise_not(image)\n",
    "\n",
    "        # Save the inverted image in the output folder with the same filename\n",
    "        output_path = os.path.join(output_folder, image_file)\n",
    "        cv2.imwrite(output_path, inverted_image)\n",
    "\n",
    "print(\"Image inversion complete.\")"
   ]
  },
  {
   "cell_type": "code",
   "execution_count": 7,
   "id": "c91217ab-01a3-48d1-94b4-220f150fbb1d",
   "metadata": {},
   "outputs": [
    {
     "name": "stdout",
     "output_type": "stream",
     "text": [
      "Image inversion complete.\n"
     ]
    }
   ],
   "source": [
    "# logic if you need to display the images too\n",
    "\n",
    "image_files = [f for f in os.listdir(input_folder) if f.endswith(('.jpg', '.png', '.jpeg'))]\n",
    "\n",
    "for image_file in image_files:\n",
    "    # Load the image\n",
    "    image_path = os.path.join(input_folder, image_file)\n",
    "    image = cv2.imread(image_path)\n",
    "\n",
    "    if image is not None:\n",
    "        # Invert the image\n",
    "        inverted_image = cv2.bitwise_not(image)\n",
    "\n",
    "        # Display the inverted image\n",
    "        cv2.imshow('Inverted Image', inverted_image)\n",
    "        \n",
    "        # Wait for a key press and close the displayed image\n",
    "        cv2.waitKey(0)\n",
    "        cv2.destroyAllWindows()\n",
    "\n",
    "print(\"Image inversion complete.\")"
   ]
  },
  {
   "cell_type": "code",
   "execution_count": 7,
   "id": "e650a11c-c588-4c88-af51-26761aa5f941",
   "metadata": {},
   "outputs": [
    {
     "name": "stdout",
     "output_type": "stream",
     "text": [
      "Image flipping complete.\n"
     ]
    }
   ],
   "source": [
    "# logic for inverting or flipping the images\n",
    "\n",
    "\n",
    "os.makedirs(output_folder, exist_ok=True)\n",
    "\n",
    "# List all files in the input folder\n",
    "image_files = [f for f in os.listdir(input_folder) if f.endswith(('.jpg', '.png', '.jpeg'))]\n",
    "\n",
    "for image_file in image_files:\n",
    "    # Load the image\n",
    "    image_path = os.path.join(input_folder, image_file)\n",
    "    image = cv2.imread(image_path)\n",
    "\n",
    "    if image is not None:\n",
    "        # Horizontally flip (inverse) the image\n",
    "        flipped_image = cv2.flip(image, 1)  # 1 indicates horizontal flip\n",
    "\n",
    "        # Save the flipped image in the output folder with the same filename\n",
    "        output_path = os.path.join(output_folder, image_file)\n",
    "        cv2.imwrite(output_path, flipped_image)\n",
    "\n",
    "        # Display the flipped image (optional)\n",
    "        cv2.imshow('Flipped Image', flipped_image)\n",
    "        cv2.waitKey(0)\n",
    "        cv2.destroyAllWindows()\n",
    "\n",
    "print(\"Image flipping complete.\")"
   ]
  },
  {
   "cell_type": "code",
   "execution_count": null,
   "id": "d94801e2-bf1f-43c0-aff7-3dfe23866117",
   "metadata": {},
   "outputs": [],
   "source": []
  }
 ],
 "metadata": {
  "kernelspec": {
   "display_name": "Python 3 (ipykernel)",
   "language": "python",
   "name": "python3"
  },
  "language_info": {
   "codemirror_mode": {
    "name": "ipython",
    "version": 3
   },
   "file_extension": ".py",
   "mimetype": "text/x-python",
   "name": "python",
   "nbconvert_exporter": "python",
   "pygments_lexer": "ipython3",
   "version": "3.11.4"
  }
 },
 "nbformat": 4,
 "nbformat_minor": 5
}
